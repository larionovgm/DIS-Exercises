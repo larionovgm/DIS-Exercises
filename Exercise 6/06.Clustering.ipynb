{
 "cells": [
  {
   "cell_type": "markdown",
   "metadata": {},
   "source": [
    "# Exercise 6\n",
    "\n",
    "In this exercise, we will put in practice a popular clustering technique: k-means.\n",
    "\n",
    "Remember that k-means is a two steps process. After initialization:  \n",
    "1) assign each point to its closest cluster  \n",
    "2) move each cluster to the average position of the points assigned to it  \n",
    "\n",
    "Note that K-means requires you to specify the desired number of clusters k, which should be, in practice, determined from an apriori knowledge about the data or via cross-validation (not covered in this homework)."
   ]
  },
  {
   "cell_type": "code",
   "execution_count": 121,
   "metadata": {},
   "outputs": [],
   "source": [
    "import pandas as pd\n",
    "import numpy as np\n",
    "import matplotlib.pyplot as plt\n",
    "import random\n",
    "from sklearn import preprocessing\n",
    "from sklearn.datasets import make_blobs\n",
    "from collections import Counter\n",
    "np.random.seed(42)\n",
    "\n",
    "%matplotlib inline"
   ]
  },
  {
   "cell_type": "markdown",
   "metadata": {},
   "source": [
    "### TODO\n",
    "\n",
    "Complete the two methods `assign_points` and `compute_centroids` below. Specifically:  \n",
    "\n",
    "*  `assign_points(X, centroids)` assigns each data points in X to its closest centroid (in terms of Euclidean distance). The output is a list of indices, where each index is in the range [0,...,K-1], K being the number of clusters.\n",
    "*  `compute_centroids(X, labels, num_clusters)` re-compute the position of each centroid. The new position of a centroid is computed as the mean of the data points that are assigned to it (recall that assignement is represented by the `labels` array).\n"
   ]
  },
  {
   "cell_type": "code",
   "execution_count": 127,
   "metadata": {},
   "outputs": [],
   "source": [
    "\"\"\"\n",
    "Generate random 2D data points\n",
    "\"\"\"\n",
    "def gen_data(num_samples,num_blobs=3,random_state=42):\n",
    "    X, y = make_blobs(n_samples=num_samples, random_state=random_state, centers=num_blobs, cluster_std=10.0)\n",
    "    return X,y\n",
    "\n",
    "\"\"\"\n",
    "Compute euclidean distance between a point and a centroid.\n",
    "point,centroid: 1D Numpy array containing coordinates [x,y]\n",
    "\"\"\"\n",
    "def euclidean_distance(point, centroid):\n",
    "    return np.sqrt(np.sum((point - centroid)**2))\n",
    "\n",
    "def init_centroids(X,num_clusters):\n",
    "    rand_indices = np.random.choice(X.shape[0], num_clusters,replace=False)\n",
    "    return X[rand_indices,:]"
   ]
  },
  {
   "cell_type": "code",
   "execution_count": 128,
   "metadata": {},
   "outputs": [],
   "source": [
    "\n",
    "\"\"\"\n",
    "Assign objects to their closest cluster center according to the Euclidean distance function.\n",
    "\"\"\"\n",
    "def assign_points(X, centroids):\n",
    "    labels = []\n",
    "    cent_num = 0\n",
    "    for point in range(0, X.shape[0]):\n",
    "        # Hint: you can use the function euclidean_distance(...) \n",
    "        #       to compute the distance between a point and \n",
    "        #       a centroid.\n",
    "        min_dist = euclidean_distance(X[point],centroids[0])\n",
    "        i_min = 0\n",
    "        for i in range(1,len(centroids)):\n",
    "            dist = euclidean_distance(X[point],centroids[i])\n",
    "            if dist < min_dist:\n",
    "                min_dist = dist\n",
    "                i_min = i\n",
    "        labels.append(i_min) \n",
    "\n",
    "    return np.array(labels)\n",
    "\n",
    "\"\"\"\n",
    "Update the position of a centroid according to the average position of the points\n",
    "of that cluster.\n",
    "\"\"\"\n",
    "def compute_centroids(X, labels, num_clusters):\n",
    "    centroids = np.zeros((num_clusters,2))\n",
    "    c = dict(Counter(labels))\n",
    "    print(c)\n",
    "    for num_c in range(num_clusters):\n",
    "        amount = 0\n",
    "        x_av = 0\n",
    "        y_av = 0\n",
    "        for i in range(len(labels)):\n",
    "            if num_c == labels[i]:\n",
    "                amount += 1\n",
    "                x_av += X[i][0]\n",
    "                y_av += X[i][1]\n",
    "        print(x_av/amount,y_av/amount)\n",
    "        centroids [num_c][0] = x_av/amount\n",
    "        centroids [num_c][1] = y_av/amount\n",
    "\n",
    "    return centroids\n"
   ]
  },
  {
   "cell_type": "code",
   "execution_count": 129,
   "metadata": {},
   "outputs": [],
   "source": [
    "\"\"\"\n",
    "Runs one instance of k-means\n",
    "X:            input data of shape Mx2, M the number of examples\n",
    "num_clusters: number of clusters to compute\n",
    "\"\"\"\n",
    "def k_means(X, num_clusters):\n",
    "\n",
    "    # Initialize centroids to randomly chosen data points\n",
    "    centroids  = init_centroids(X,num_clusters)\n",
    "    \n",
    "    # Bookkeeping\n",
    "    num_iter  = 0\n",
    "    positions = [centroids]\n",
    "    \n",
    "    while True:\n",
    "        \n",
    "        labels = assign_points(X, centroids)\n",
    "        \n",
    "        new_centroids = compute_centroids(X, labels, num_clusters)\n",
    "\n",
    "        num_iter += 1\n",
    "        \n",
    "        # Termination criterion\n",
    "        if np.all(centroids == new_centroids):\n",
    "            break\n",
    "        if num_iter >100:\n",
    "            break\n",
    "            \n",
    "        centroids = new_centroids\n",
    "        positions.append(centroids)\n",
    "        \n",
    "    return [labels, centroids, num_iter, positions]"
   ]
  },
  {
   "cell_type": "code",
   "execution_count": 130,
   "metadata": {},
   "outputs": [
    {
     "name": "stdout",
     "output_type": "stream",
     "text": [
      "{1: 37, 2: 27, 0: 86}\n",
      "1.624875753856719 -4.897644587064803\n",
      "-1.7234420913534219 16.588904773882984\n",
      "-13.87550585307483 1.3847907472970578\n",
      "{1: 38, 2: 45, 0: 67}\n",
      "3.7857095094293465 -5.743648718951917\n",
      "1.482913100935738 15.881844757869086\n",
      "-13.525776345527634 0.25101679319713216\n",
      "{1: 42, 2: 49, 0: 59}\n",
      "4.377429009370359 -6.459794201105433\n",
      "1.8921471383200716 14.920026670469756\n",
      "-12.987861060075783 -0.31697693819165906\n",
      "{1: 48, 2: 50, 0: 52}\n",
      "4.2672440323986445 -7.728970915672132\n",
      "2.5744047906274434 13.721898882424215\n",
      "-12.882696404325321 -0.5352653283658665\n",
      "{1: 50, 2: 53, 0: 47}\n",
      "4.4091807184285114 -8.767602463574725\n",
      "2.9140093453375364 13.348514934361935\n",
      "-12.294314370083697 -0.47862336994276694\n",
      "{1: 53, 2: 54, 0: 43}\n",
      "3.974996008880001 -9.773048186820768\n",
      "3.4839868400303566 12.776458983485634\n",
      "-12.11560799046052 -0.4987011438579137\n",
      "{1: 52, 2: 55, 0: 43}\n",
      "3.974996008880001 -9.773048186820768\n",
      "3.703929372882951 12.82747719422003\n",
      "-12.039924660966776 -0.30556999532782486\n",
      "{1: 52, 2: 55, 0: 43}\n",
      "3.974996008880001 -9.773048186820768\n",
      "3.703929372882951 12.82747719422003\n",
      "-12.039924660966776 -0.30556999532782486\n",
      "Convergence in 8 iteration(s)\n"
     ]
    }
   ],
   "source": [
    "num_samples = 150\n",
    "num_blobs   = 3\n",
    "X,y = gen_data(num_samples,num_blobs=num_blobs)\n",
    "\n",
    "total_iterations = 10\n",
    "num_clusters     = 3\n",
    "[cluster_label, new_centroids, num_iter, positions] = k_means(X,num_clusters)\n",
    "print(\"Convergence in %i iteration(s)\" % num_iter)"
   ]
  },
  {
   "cell_type": "markdown",
   "metadata": {},
   "source": [
    "### Plotting\n",
    "\n",
    "With the following code you can plot the result of the clustering procedure.  \n",
    "\n",
    "Cluster centroids are displayed as red circles. Their positions across the various steps of the optimization are displayed as red lines. Data points are colored according to their cluster assignement."
   ]
  },
  {
   "cell_type": "code",
   "execution_count": 131,
   "metadata": {},
   "outputs": [
    {
     "data": {
      "text/plain": [
       "[<matplotlib.lines.Line2D at 0x1a240d7a90>]"
      ]
     },
     "execution_count": 131,
     "metadata": {},
     "output_type": "execute_result"
    },
    {
     "data": {
      "image/png": "[encoded data removed]",
      "text/plain": [
       "<Figure size 432x288 with 1 Axes>"
      ]
     },
     "metadata": {
      "needs_background": "light"
     },
     "output_type": "display_data"
    }
   ],
   "source": [
    "A = plt.scatter(X[:, 0], X[:, 1], c=cluster_label)\n",
    "B = plt.scatter(new_centroids[:,0], new_centroids[:,1], marker='o', s=50, c='r', edgecolors='w', linewidths=1)\n",
    "\n",
    "plt.plot(np.array(positions)[:,0,0],np.array(positions)[:,0,1],'r',linewidth=3)\n",
    "plt.plot(np.array(positions)[:,1,0],np.array(positions)[:,1,1],'r',linewidth=3)\n",
    "plt.plot(np.array(positions)[:,2,0],np.array(positions)[:,2,1],'r',linewidth=3)"
   ]
  },
  {
   "cell_type": "markdown",
   "metadata": {
    "collapsed": true
   },
   "source": [
    "## Pen and Paper"
   ]
  },
  {
   "cell_type": "markdown",
   "metadata": {},
   "source": [
    "Consider a set P of points as shown below:  \n",
    "<img src=\"ex2.png\" width=\"400\">"
   ]
  },
  {
   "cell_type": "markdown",
   "metadata": {},
   "source": [
    "#### Question 2.1\n",
    "\n",
    "Recall that the DBSCAN algorithm classifies each data point into one of 3 types: core ,  border , and  noise . The classification is based on two parameters, a distance  r and a threshold  t . Set  r = 1 and  t = 3. What are the types of a, b, c in the figure, respectively?  "
   ]
  },
  {
   "cell_type": "markdown",
   "metadata": {},
   "source": [
    "#### Question 2.2\n",
    "Set  r  = 1 and   t  = 3, and consider the point set  P  in Question 2.  \n",
    "1) Are points  d and  e  connected? If so, show that there is a point  p that can\n",
    "reach both  d   and  e.  \n",
    "2) How about points  f  and  g ?  "
   ]
  },
  {
   "cell_type": "markdown",
   "metadata": {},
   "source": [
    "#### Question 2.3  \n",
    "Set  r  = 1 and  t  = 3. Show the output of DBSCAN on the point set  P in Question 2 (i.e., what are the points in each of the clusters returned?)."
   ]
  }
 ],
 "metadata": {
  "kernelspec": {
   "display_name": "Python 3",
   "language": "python",
   "name": "python3"
  },
  "language_info": {
   "codemirror_mode": {
    "name": "ipython",
    "version": 3
   },
   "file_extension": ".py",
   "mimetype": "text/x-python",
   "name": "python",
   "nbconvert_exporter": "python",
   "pygments_lexer": "ipython3",
   "version": "3.7.1"
  }
 },
 "nbformat": 4,
 "nbformat_minor": 2
}
